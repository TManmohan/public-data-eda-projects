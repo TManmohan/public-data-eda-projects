{
 "cells": [
  {
   "cell_type": "markdown",
   "id": "be7f2a2d",
   "metadata": {},
   "source": [
    "# 🦠 COVID Survey EDA\n",
    "\n",
    "This notebook explores public COVID-19 survey data using two related CSV files."
   ]
  },
  {
   "cell_type": "code",
   "execution_count": null,
   "id": "94bdc6d7",
   "metadata": {},
   "outputs": [],
   "source": [
    "# 📦 Import libraries\n",
    "import pandas as pd\n",
    "import matplotlib.pyplot as plt\n",
    "import seaborn as sns\n",
    "\n",
    "# Set plot style\n",
    "sns.set(style='whitegrid')"
   ]
  },
  {
   "cell_type": "code",
   "execution_count": null,
   "id": "cbeb43a7",
   "metadata": {},
   "outputs": [],
   "source": [
    "# 📁 Load datasets\n",
    "features = pd.read_csv('../covid_flu_survey_features.csv')\n",
    "labels = pd.read_csv('../covid_response_labels.csv')\n",
    "\n",
    "# 👀 View shape and columns\n",
    "features.shape, labels.shape"
   ]
  },
  {
   "cell_type": "code",
   "execution_count": null,
   "id": "431c3e72",
   "metadata": {},
   "outputs": [],
   "source": [
    "# 🔗 Merge datasets (assuming 'id' is a common key)\n",
    "# merged = pd.merge(features, labels, on='id')  # Uncomment if they have a common key\n",
    "features.head()"
   ]
  },
  {
   "cell_type": "markdown",
   "id": "72b446c1",
   "metadata": {},
   "source": [
    "## 🔍 Basic Exploration"
   ]
  },
  {
   "cell_type": "code",
   "execution_count": null,
   "id": "de3dddbb",
   "metadata": {},
   "outputs": [],
   "source": [
    "# Check for missing values\n",
    "features.isnull().sum().sort_values(ascending=False).head()"
   ]
  },
  {
   "cell_type": "code",
   "execution_count": null,
   "id": "d8afd71c",
   "metadata": {},
   "outputs": [],
   "source": [
    "# Describe numerical columns\n",
    "features.describe()"
   ]
  },
  {
   "cell_type": "markdown",
   "id": "bc7944db",
   "metadata": {},
   "source": [
    "## 📊 Visualization: Age Distribution"
   ]
  },
  {
   "cell_type": "code",
   "execution_count": null,
   "id": "8f27f27a",
   "metadata": {},
   "outputs": [],
   "source": [
    "# Replace with actual column name if different\n",
    "if 'age' in features.columns:\n",
    "    plt.figure(figsize=(8,5))\n",
    "    sns.histplot(features['age'].dropna(), kde=True, bins=30)\n",
    "    plt.title('Age Distribution')\n",
    "    plt.xlabel('Age')\n",
    "    plt.ylabel('Frequency')\n",
    "    plt.show()"
   ]
  },
  {
   "cell_type": "markdown",
   "id": "e327aaed",
   "metadata": {},
   "source": [
    "## 📌 Next Steps\n",
    "- Explore relationships (e.g., age vs response)\n",
    "- Clean categorical features\n",
    "- Build simple dashboard or summary tables"
   ]
  }
 ],
 "metadata": {},
 "nbformat": 4,
 "nbformat_minor": 5
}
